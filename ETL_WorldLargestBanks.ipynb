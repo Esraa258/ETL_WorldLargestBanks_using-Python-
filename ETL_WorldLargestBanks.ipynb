{
 "cells": [
  {
   "cell_type": "code",
   "execution_count": 1,
   "id": "15e55718",
   "metadata": {},
   "outputs": [],
   "source": [
    "#import libraries\n",
    "import pandas as pd\n",
    "import numpy as np\n",
    "from bs4 import BeautifulSoup\n",
    "import requests\n",
    "import sqlite3\n",
    "from datetime import datetime"
   ]
  },
  {
   "cell_type": "code",
   "execution_count": 2,
   "id": "5c14918e",
   "metadata": {},
   "outputs": [],
   "source": [
    "url = 'https://web.archive.org/web/20230908091635 /https://en.wikipedia.org/wiki/List_of_largest_banks'\n",
    "csv_path = r'C:\\Users\\esraa\\Desktop\\PythonProjects\\ETL_WorldLargestBanks_Jupiter/Largest_banks_data.csv'\n",
    "db_name = r'C:\\Users\\esraa\\Desktop\\PythonProjects\\ETL_WorldLargestBanks_Jupiter/Banks.db'\n",
    "#db_name = 'Banks.db'\n",
    "table_name = 'Largest_banks'"
   ]
  },
  {
   "cell_type": "code",
   "execution_count": 3,
   "id": "9ef77137",
   "metadata": {},
   "outputs": [],
   "source": [
    "''' This function logs the mentioned message of a given stage of the\n",
    "    code execution to a log file. Function returns nothing'''\n",
    "\n",
    "def log_progress(message):\n",
    "    \n",
    "    #timestamp_format --> determines the formatting of the time &date\n",
    "    timestamp_format = '%Y-%h-%d-%H:%M:%S' # Year-Monthname-Day-Hour-Minute-Second\n",
    "    #now --> capture the current time by calling datetime \n",
    "    now = datetime.now() # get current timestamp \n",
    "    timestamp = now.strftime(timestamp_format)\n",
    "    #pull that information together (by opening a file &writing the information to the file)\n",
    "    # 'a' ---> all the data written will be appended to the existing information\n",
    "    with open(\"C:/Users/esraa/Desktop/PythonProjects/ETL_WorldLargestBanks_Jupiter/code_log.txt\",\"a\") as f:\n",
    "        #we are then able to attach a timestamp to each part of the process of when it begins &when it has completed \n",
    "        f.write(timestamp + ' : ' + message + '\\n')"
   ]
  },
  {
   "cell_type": "code",
   "execution_count": 4,
   "id": "43c2b8a3",
   "metadata": {},
   "outputs": [],
   "source": [
    "#        Task           -->       Log message on completion\n",
    "\n",
    "#Declaring known values --> Preliminaries complete. Initiating ETL process\n",
    "# Log the initialization of the ETL process \n",
    "log_progress('Preliminaries complete. Initiating ETL process')"
   ]
  },
  {
   "cell_type": "code",
   "execution_count": 5,
   "id": "4084a34a",
   "metadata": {},
   "outputs": [],
   "source": [
    "#################################################### Extraction ####################################################\n",
    "table_attribs = ['Name', 'MC_USD_Billion']\n",
    "\n",
    "\n",
    "#Extract the web page as text and store in a variable\n",
    "html_page = requests.get(url).text\n",
    "#create a BeautifulSoup object using the BeautifulSoup constructor\n",
    "##Parse the text into an HTML object\n",
    "data = BeautifulSoup(html_page, 'html.parser')\n",
    "\n",
    "\n",
    "#get the body of all the tables in the web page\n",
    "tables = data.find_all('tbody')\n",
    "#get all the rows of the first table\n",
    "rows = tables[0].find_all('tr')\n",
    "\n",
    "\n",
    "\n",
    "''' This function aims to extract the required\n",
    "    information from the website and save it to a data frame. The\n",
    "    function returns the data frame for further processing. '''\n",
    "\n",
    "def extract(url, table_attribs):\n",
    "    #Create an empty pandas DataFrame named df with columns as the table_attribs\n",
    "    df = pd.DataFrame(columns=table_attribs)\n",
    "\n",
    "    for row in rows:\n",
    "        #Check the contents of each row having attribute ‘td’, (should not be empty)#\n",
    "        col = row.find_all('td')\n",
    "        if len(col)!=0:\n",
    "        #Store all entries matching the conditions to a dictionary with keys the same as table_attribs#\n",
    "            #data_dict = {\"Name\": col[1].text, \"MC_USD_Billion\": col[2].contents[0]}\n",
    "            data_dict = {\"Name\": col[1].find_all('a')[1]['title'], \"MC_USD_Billion\": col[2].contents}\n",
    "            df1 = pd.DataFrame(data_dict, index=[0])\n",
    "            #Append all these dictionaries one by one to the dataframe#\n",
    "            #remove the last character from the Market Cap column contents'\\n' #\n",
    "            df = pd.concat([df,df1], ignore_index=True).replace('\\n', '', regex=True)\n",
    "    return df "
   ]
  },
  {
   "cell_type": "code",
   "execution_count": 6,
   "id": "240fd606",
   "metadata": {},
   "outputs": [],
   "source": [
    "#Call extract() function --> Data extraction complete. Initiating Transformation process\n",
    "\n",
    "#call the extract_data function\n",
    "##(The data received from this step will then be transferred to the 2nd step of transforming, \n",
    "##after this has completed the data is then loaded into the target file)\n",
    "\n",
    "\n",
    "#before & after every step the time and date for start and completion has been added"
   ]
  },
  {
   "cell_type": "code",
   "execution_count": 7,
   "id": "b91eaa3c",
   "metadata": {},
   "outputs": [
    {
     "data": {
      "text/html": [
       "<div>\n",
       "<style scoped>\n",
       "    .dataframe tbody tr th:only-of-type {\n",
       "        vertical-align: middle;\n",
       "    }\n",
       "\n",
       "    .dataframe tbody tr th {\n",
       "        vertical-align: top;\n",
       "    }\n",
       "\n",
       "    .dataframe thead th {\n",
       "        text-align: right;\n",
       "    }\n",
       "</style>\n",
       "<table border=\"1\" class=\"dataframe\">\n",
       "  <thead>\n",
       "    <tr style=\"text-align: right;\">\n",
       "      <th></th>\n",
       "      <th>Name</th>\n",
       "      <th>MC_USD_Billion</th>\n",
       "    </tr>\n",
       "  </thead>\n",
       "  <tbody>\n",
       "    <tr>\n",
       "      <th>0</th>\n",
       "      <td>JPMorgan Chase</td>\n",
       "      <td>432.92</td>\n",
       "    </tr>\n",
       "    <tr>\n",
       "      <th>1</th>\n",
       "      <td>Bank of America</td>\n",
       "      <td>231.52</td>\n",
       "    </tr>\n",
       "    <tr>\n",
       "      <th>2</th>\n",
       "      <td>Industrial and Commercial Bank of China</td>\n",
       "      <td>194.56</td>\n",
       "    </tr>\n",
       "    <tr>\n",
       "      <th>3</th>\n",
       "      <td>Agricultural Bank of China</td>\n",
       "      <td>160.68</td>\n",
       "    </tr>\n",
       "    <tr>\n",
       "      <th>4</th>\n",
       "      <td>HDFC Bank</td>\n",
       "      <td>157.91</td>\n",
       "    </tr>\n",
       "    <tr>\n",
       "      <th>5</th>\n",
       "      <td>Wells Fargo</td>\n",
       "      <td>155.87</td>\n",
       "    </tr>\n",
       "    <tr>\n",
       "      <th>6</th>\n",
       "      <td>HSBC</td>\n",
       "      <td>148.90</td>\n",
       "    </tr>\n",
       "    <tr>\n",
       "      <th>7</th>\n",
       "      <td>Morgan Stanley</td>\n",
       "      <td>140.83</td>\n",
       "    </tr>\n",
       "    <tr>\n",
       "      <th>8</th>\n",
       "      <td>China Construction Bank</td>\n",
       "      <td>139.82</td>\n",
       "    </tr>\n",
       "    <tr>\n",
       "      <th>9</th>\n",
       "      <td>Bank of China</td>\n",
       "      <td>136.81</td>\n",
       "    </tr>\n",
       "  </tbody>\n",
       "</table>\n",
       "</div>"
      ],
      "text/plain": [
       "                                      Name MC_USD_Billion\n",
       "0                           JPMorgan Chase         432.92\n",
       "1                          Bank of America         231.52\n",
       "2  Industrial and Commercial Bank of China         194.56\n",
       "3               Agricultural Bank of China         160.68\n",
       "4                                HDFC Bank         157.91\n",
       "5                              Wells Fargo         155.87\n",
       "6                                     HSBC         148.90\n",
       "7                           Morgan Stanley         140.83\n",
       "8                  China Construction Bank         139.82\n",
       "9                            Bank of China         136.81"
      ]
     },
     "execution_count": 7,
     "metadata": {},
     "output_type": "execute_result"
    }
   ],
   "source": [
    "df = extract(url, table_attribs)\n",
    "df"
   ]
  },
  {
   "cell_type": "code",
   "execution_count": 8,
   "id": "43375dab",
   "metadata": {},
   "outputs": [],
   "source": [
    "log_progress('Data extraction complete. Initiating Transformation process')"
   ]
  },
  {
   "cell_type": "code",
   "execution_count": 9,
   "id": "3de3e5b1",
   "metadata": {},
   "outputs": [],
   "source": [
    "################################################################################################################"
   ]
  },
  {
   "cell_type": "code",
   "execution_count": 10,
   "id": "77ab1b38",
   "metadata": {},
   "outputs": [],
   "source": [
    "################################################ Transformation ################################################"
   ]
  },
  {
   "cell_type": "code",
   "execution_count": 11,
   "id": "66e02f9b",
   "metadata": {},
   "outputs": [
    {
     "data": {
      "text/html": [
       "<div>\n",
       "<style scoped>\n",
       "    .dataframe tbody tr th:only-of-type {\n",
       "        vertical-align: middle;\n",
       "    }\n",
       "\n",
       "    .dataframe tbody tr th {\n",
       "        vertical-align: top;\n",
       "    }\n",
       "\n",
       "    .dataframe thead th {\n",
       "        text-align: right;\n",
       "    }\n",
       "</style>\n",
       "<table border=\"1\" class=\"dataframe\">\n",
       "  <thead>\n",
       "    <tr style=\"text-align: right;\">\n",
       "      <th></th>\n",
       "      <th>Currency</th>\n",
       "      <th>Rate</th>\n",
       "    </tr>\n",
       "  </thead>\n",
       "  <tbody>\n",
       "    <tr>\n",
       "      <th>0</th>\n",
       "      <td>EUR</td>\n",
       "      <td>0.93</td>\n",
       "    </tr>\n",
       "    <tr>\n",
       "      <th>1</th>\n",
       "      <td>GBP</td>\n",
       "      <td>0.80</td>\n",
       "    </tr>\n",
       "    <tr>\n",
       "      <th>2</th>\n",
       "      <td>INR</td>\n",
       "      <td>82.95</td>\n",
       "    </tr>\n",
       "  </tbody>\n",
       "</table>\n",
       "</div>"
      ],
      "text/plain": [
       "  Currency   Rate\n",
       "0      EUR   0.93\n",
       "1      GBP   0.80\n",
       "2      INR  82.95"
      ]
     },
     "execution_count": 11,
     "metadata": {},
     "output_type": "execute_result"
    }
   ],
   "source": [
    "exchange_rate = pd.read_csv(r\"C:\\Users\\esraa\\Desktop\\PythonProjects\\ETL_WorldLargestBanks_Jupiter\\exchange_rate.csv\")\n",
    "exchange_rate"
   ]
  },
  {
   "cell_type": "code",
   "execution_count": 12,
   "id": "5fcea85a",
   "metadata": {},
   "outputs": [
    {
     "data": {
      "text/plain": [
       "{'EUR': 0.93, 'GBP': 0.8, 'INR': 82.95}"
      ]
     },
     "execution_count": 12,
     "metadata": {},
     "output_type": "execute_result"
    }
   ],
   "source": [
    "#convert the contents of the exchange rate CSV file to a dictionary so that \n",
    "##the contents of the first columns are the keys to the dictionary and \n",
    "##the contents of the second column are the corresponding values\n",
    "\n",
    "exchange_rate = exchange_rate.set_index('Currency').to_dict()['Rate']\n",
    "exchange_rate"
   ]
  },
  {
   "cell_type": "code",
   "execution_count": 13,
   "id": "98656956",
   "metadata": {},
   "outputs": [
    {
     "data": {
      "text/plain": [
       "0    432.92\n",
       "1    231.52\n",
       "2    194.56\n",
       "3    160.68\n",
       "4    157.91\n",
       "5    155.87\n",
       "6    148.90\n",
       "7    140.83\n",
       "8    139.82\n",
       "9    136.81\n",
       "Name: MC_USD_Billion, dtype: object"
      ]
     },
     "execution_count": 13,
     "metadata": {},
     "output_type": "execute_result"
    }
   ],
   "source": [
    "df[\"MC_USD_Billion\"]"
   ]
  },
  {
   "cell_type": "code",
   "execution_count": 14,
   "id": "a57ddf73",
   "metadata": {},
   "outputs": [],
   "source": [
    "#Convert the contents of the 'MC_USD_Billion' column of df dataframe from currency format to floating numbers\n",
    "\n",
    "#convert the dataframe column 'MC_USD_Billion' to a list \n",
    "#to iterate over the contents of the list and use split() and join() functions to convert the currency text into numerical text"
   ]
  },
  {
   "cell_type": "code",
   "execution_count": 15,
   "id": "b95082cb",
   "metadata": {},
   "outputs": [
    {
     "data": {
      "text/plain": [
       "['432.92',\n",
       " '231.52',\n",
       " '194.56',\n",
       " '160.68',\n",
       " '157.91',\n",
       " '155.87',\n",
       " '148.90',\n",
       " '140.83',\n",
       " '139.82',\n",
       " '136.81']"
      ]
     },
     "execution_count": 15,
     "metadata": {},
     "output_type": "execute_result"
    }
   ],
   "source": [
    "#convert the dataframe column'MC_USD_Billion' to a list\n",
    "MC_USD_Billion = df[\"MC_USD_Billion\"].tolist()\n",
    "MC_USD_Billion"
   ]
  },
  {
   "cell_type": "code",
   "execution_count": 16,
   "id": "c1c18dfb",
   "metadata": {},
   "outputs": [
    {
     "data": {
      "text/plain": [
       "[43292.0,\n",
       " 23152.0,\n",
       " 19456.0,\n",
       " 16068.0,\n",
       " 15791.0,\n",
       " 15587.0,\n",
       " 14890.0,\n",
       " 14083.0,\n",
       " 13982.0,\n",
       " 13681.0]"
      ]
     },
     "execution_count": 16,
     "metadata": {},
     "output_type": "execute_result"
    }
   ],
   "source": [
    "#Typecast the currency format to float\n",
    "MC_USD_Billion = [float(\"\".join(x.split('.'))) for x in MC_USD_Billion]\n",
    "MC_USD_Billion"
   ]
  },
  {
   "cell_type": "code",
   "execution_count": 17,
   "id": "9c6f8e01",
   "metadata": {},
   "outputs": [],
   "source": [
    "''' This function accesses the CSV file for exchange rate\n",
    "    information, and adds three columns to the data frame, each\n",
    "    containing the transformed version of Market Cap column to\n",
    "    respective currencies'''\n",
    "\n",
    "def transform(df, exchange_rate):\n",
    "    #transform 'MC_USD_Billion' from USD to GBP, EUR, INR as per the exchange_rate info in the CSV file#\n",
    "    #and round it to 2 decimal places by using the numpy.round() function#\n",
    "    df['MC_USD_Billion'] = [np.round(x ,2) for x in MC_USD_Billion]\n",
    "    df['MC_GBP_Billion'] = [np.round(x * exchange_rate['GBP'],2) for x in MC_USD_Billion]\n",
    "    df['MC_EUR_Billion'] = [np.round(x * exchange_rate['EUR'],2) for x in MC_USD_Billion]\n",
    "    df['MC_INR_Billion'] = [np.round(x * exchange_rate['INR'],2) for x in MC_USD_Billion]\n",
    "    return df"
   ]
  },
  {
   "cell_type": "code",
   "execution_count": 18,
   "id": "75e90b20",
   "metadata": {},
   "outputs": [
    {
     "data": {
      "text/html": [
       "<div>\n",
       "<style scoped>\n",
       "    .dataframe tbody tr th:only-of-type {\n",
       "        vertical-align: middle;\n",
       "    }\n",
       "\n",
       "    .dataframe tbody tr th {\n",
       "        vertical-align: top;\n",
       "    }\n",
       "\n",
       "    .dataframe thead th {\n",
       "        text-align: right;\n",
       "    }\n",
       "</style>\n",
       "<table border=\"1\" class=\"dataframe\">\n",
       "  <thead>\n",
       "    <tr style=\"text-align: right;\">\n",
       "      <th></th>\n",
       "      <th>Name</th>\n",
       "      <th>MC_USD_Billion</th>\n",
       "      <th>MC_GBP_Billion</th>\n",
       "      <th>MC_EUR_Billion</th>\n",
       "      <th>MC_INR_Billion</th>\n",
       "    </tr>\n",
       "  </thead>\n",
       "  <tbody>\n",
       "    <tr>\n",
       "      <th>0</th>\n",
       "      <td>JPMorgan Chase</td>\n",
       "      <td>43292.0</td>\n",
       "      <td>34633.6</td>\n",
       "      <td>40261.56</td>\n",
       "      <td>3591071.40</td>\n",
       "    </tr>\n",
       "    <tr>\n",
       "      <th>1</th>\n",
       "      <td>Bank of America</td>\n",
       "      <td>23152.0</td>\n",
       "      <td>18521.6</td>\n",
       "      <td>21531.36</td>\n",
       "      <td>1920458.40</td>\n",
       "    </tr>\n",
       "    <tr>\n",
       "      <th>2</th>\n",
       "      <td>Industrial and Commercial Bank of China</td>\n",
       "      <td>19456.0</td>\n",
       "      <td>15564.8</td>\n",
       "      <td>18094.08</td>\n",
       "      <td>1613875.20</td>\n",
       "    </tr>\n",
       "    <tr>\n",
       "      <th>3</th>\n",
       "      <td>Agricultural Bank of China</td>\n",
       "      <td>16068.0</td>\n",
       "      <td>12854.4</td>\n",
       "      <td>14943.24</td>\n",
       "      <td>1332840.60</td>\n",
       "    </tr>\n",
       "    <tr>\n",
       "      <th>4</th>\n",
       "      <td>HDFC Bank</td>\n",
       "      <td>15791.0</td>\n",
       "      <td>12632.8</td>\n",
       "      <td>14685.63</td>\n",
       "      <td>1309863.45</td>\n",
       "    </tr>\n",
       "    <tr>\n",
       "      <th>5</th>\n",
       "      <td>Wells Fargo</td>\n",
       "      <td>15587.0</td>\n",
       "      <td>12469.6</td>\n",
       "      <td>14495.91</td>\n",
       "      <td>1292941.65</td>\n",
       "    </tr>\n",
       "    <tr>\n",
       "      <th>6</th>\n",
       "      <td>HSBC</td>\n",
       "      <td>14890.0</td>\n",
       "      <td>11912.0</td>\n",
       "      <td>13847.70</td>\n",
       "      <td>1235125.50</td>\n",
       "    </tr>\n",
       "    <tr>\n",
       "      <th>7</th>\n",
       "      <td>Morgan Stanley</td>\n",
       "      <td>14083.0</td>\n",
       "      <td>11266.4</td>\n",
       "      <td>13097.19</td>\n",
       "      <td>1168184.85</td>\n",
       "    </tr>\n",
       "    <tr>\n",
       "      <th>8</th>\n",
       "      <td>China Construction Bank</td>\n",
       "      <td>13982.0</td>\n",
       "      <td>11185.6</td>\n",
       "      <td>13003.26</td>\n",
       "      <td>1159806.90</td>\n",
       "    </tr>\n",
       "    <tr>\n",
       "      <th>9</th>\n",
       "      <td>Bank of China</td>\n",
       "      <td>13681.0</td>\n",
       "      <td>10944.8</td>\n",
       "      <td>12723.33</td>\n",
       "      <td>1134838.95</td>\n",
       "    </tr>\n",
       "  </tbody>\n",
       "</table>\n",
       "</div>"
      ],
      "text/plain": [
       "                                      Name  MC_USD_Billion  MC_GBP_Billion  \\\n",
       "0                           JPMorgan Chase         43292.0         34633.6   \n",
       "1                          Bank of America         23152.0         18521.6   \n",
       "2  Industrial and Commercial Bank of China         19456.0         15564.8   \n",
       "3               Agricultural Bank of China         16068.0         12854.4   \n",
       "4                                HDFC Bank         15791.0         12632.8   \n",
       "5                              Wells Fargo         15587.0         12469.6   \n",
       "6                                     HSBC         14890.0         11912.0   \n",
       "7                           Morgan Stanley         14083.0         11266.4   \n",
       "8                  China Construction Bank         13982.0         11185.6   \n",
       "9                            Bank of China         13681.0         10944.8   \n",
       "\n",
       "   MC_EUR_Billion  MC_INR_Billion  \n",
       "0        40261.56      3591071.40  \n",
       "1        21531.36      1920458.40  \n",
       "2        18094.08      1613875.20  \n",
       "3        14943.24      1332840.60  \n",
       "4        14685.63      1309863.45  \n",
       "5        14495.91      1292941.65  \n",
       "6        13847.70      1235125.50  \n",
       "7        13097.19      1168184.85  \n",
       "8        13003.26      1159806.90  \n",
       "9        12723.33      1134838.95  "
      ]
     },
     "execution_count": 18,
     "metadata": {},
     "output_type": "execute_result"
    }
   ],
   "source": [
    "df = transform(df, exchange_rate)\n",
    "df"
   ]
  },
  {
   "cell_type": "code",
   "execution_count": 19,
   "id": "7613b2a4",
   "metadata": {},
   "outputs": [],
   "source": [
    "log_progress('Data transformation complete. Initiating Loading process')"
   ]
  },
  {
   "cell_type": "code",
   "execution_count": 20,
   "id": "287f2b29",
   "metadata": {},
   "outputs": [],
   "source": [
    "############################################################################################################################"
   ]
  },
  {
   "cell_type": "code",
   "execution_count": 21,
   "id": "d1670a91",
   "metadata": {},
   "outputs": [],
   "source": [
    "#################################################### Loading ####################################################\n",
    "#save the transformed dataframe to a CSV file\n",
    "##pass the dataframe df and the CSV file path to the function load_to_csv() \n",
    "\n",
    "''' This function saves the final data frame as a CSV file in\n",
    "    the provided path. Function returns nothing.'''\n",
    "\n",
    "def load_to_csv(df, csv_path):\n",
    "    df.to_csv(csv_path)\n",
    "#Calling the function    \n",
    "load_to_csv(df, csv_path)\n",
    "\n",
    "\n",
    "log_progress('Data saved to CSV file')"
   ]
  },
  {
   "cell_type": "code",
   "execution_count": 22,
   "id": "88695686",
   "metadata": {},
   "outputs": [],
   "source": [
    "#Load the transformed dataframe to an SQL database server as a table\n",
    "##This needs to be implemented in the function load_to_db(), which accepts the dataframe df, \n",
    "###the connection object to the SQL database conn, and the table name variable table_name to be used\n",
    "\n",
    "\n",
    "#Initiate SQLite3 connection --> SQL Connection initiated.\n",
    "sql_connection = sqlite3.connect(db_name)\n",
    "log_progress('SQL Connection initiated.')\n",
    "\n",
    "\n",
    "\n",
    "''' This function saves the final data frame to a database\n",
    "    table with the provided name. Function returns nothing.'''\n",
    "def load_to_db(df, sql_connection, table_name):\n",
    "    df.to_sql(table_name, sql_connection, if_exists='replace', index=False)\n",
    "#Calling the function \n",
    "load_to_db(df, sql_connection, table_name)\n",
    "\n",
    "\n",
    "#Call load_to_db() --> Data loaded to Database as a table, Executing queries\n",
    "log_progress('Data loaded to Database as a table, Executing queries')"
   ]
  },
  {
   "cell_type": "code",
   "execution_count": 23,
   "id": "dcda3dd2",
   "metadata": {},
   "outputs": [],
   "source": [
    "#Run queries on Database\n",
    "#run_query():accepts the query statement, and the SQLite3 Connection object, and generates the output of the query\n",
    "\n",
    "''' This function runs the query on the database table and\n",
    "    prints the output on the terminal. Function returns nothing. '''\n",
    "def run_query(query_statement, sql_connection):\n",
    "    query_output = pd.read_sql(query_statement, sql_connection)"
   ]
  },
  {
   "cell_type": "code",
   "execution_count": 24,
   "id": "d1af9c85",
   "metadata": {},
   "outputs": [
    {
     "data": {
      "text/html": [
       "<div>\n",
       "<style scoped>\n",
       "    .dataframe tbody tr th:only-of-type {\n",
       "        vertical-align: middle;\n",
       "    }\n",
       "\n",
       "    .dataframe tbody tr th {\n",
       "        vertical-align: top;\n",
       "    }\n",
       "\n",
       "    .dataframe thead th {\n",
       "        text-align: right;\n",
       "    }\n",
       "</style>\n",
       "<table border=\"1\" class=\"dataframe\">\n",
       "  <thead>\n",
       "    <tr style=\"text-align: right;\">\n",
       "      <th></th>\n",
       "      <th>Name</th>\n",
       "      <th>MC_USD_Billion</th>\n",
       "      <th>MC_GBP_Billion</th>\n",
       "      <th>MC_EUR_Billion</th>\n",
       "      <th>MC_INR_Billion</th>\n",
       "    </tr>\n",
       "  </thead>\n",
       "  <tbody>\n",
       "    <tr>\n",
       "      <th>0</th>\n",
       "      <td>JPMorgan Chase</td>\n",
       "      <td>43292.0</td>\n",
       "      <td>34633.6</td>\n",
       "      <td>40261.56</td>\n",
       "      <td>3591071.40</td>\n",
       "    </tr>\n",
       "    <tr>\n",
       "      <th>1</th>\n",
       "      <td>Bank of America</td>\n",
       "      <td>23152.0</td>\n",
       "      <td>18521.6</td>\n",
       "      <td>21531.36</td>\n",
       "      <td>1920458.40</td>\n",
       "    </tr>\n",
       "    <tr>\n",
       "      <th>2</th>\n",
       "      <td>Industrial and Commercial Bank of China</td>\n",
       "      <td>19456.0</td>\n",
       "      <td>15564.8</td>\n",
       "      <td>18094.08</td>\n",
       "      <td>1613875.20</td>\n",
       "    </tr>\n",
       "    <tr>\n",
       "      <th>3</th>\n",
       "      <td>Agricultural Bank of China</td>\n",
       "      <td>16068.0</td>\n",
       "      <td>12854.4</td>\n",
       "      <td>14943.24</td>\n",
       "      <td>1332840.60</td>\n",
       "    </tr>\n",
       "    <tr>\n",
       "      <th>4</th>\n",
       "      <td>HDFC Bank</td>\n",
       "      <td>15791.0</td>\n",
       "      <td>12632.8</td>\n",
       "      <td>14685.63</td>\n",
       "      <td>1309863.45</td>\n",
       "    </tr>\n",
       "    <tr>\n",
       "      <th>5</th>\n",
       "      <td>Wells Fargo</td>\n",
       "      <td>15587.0</td>\n",
       "      <td>12469.6</td>\n",
       "      <td>14495.91</td>\n",
       "      <td>1292941.65</td>\n",
       "    </tr>\n",
       "    <tr>\n",
       "      <th>6</th>\n",
       "      <td>HSBC</td>\n",
       "      <td>14890.0</td>\n",
       "      <td>11912.0</td>\n",
       "      <td>13847.70</td>\n",
       "      <td>1235125.50</td>\n",
       "    </tr>\n",
       "    <tr>\n",
       "      <th>7</th>\n",
       "      <td>Morgan Stanley</td>\n",
       "      <td>14083.0</td>\n",
       "      <td>11266.4</td>\n",
       "      <td>13097.19</td>\n",
       "      <td>1168184.85</td>\n",
       "    </tr>\n",
       "    <tr>\n",
       "      <th>8</th>\n",
       "      <td>China Construction Bank</td>\n",
       "      <td>13982.0</td>\n",
       "      <td>11185.6</td>\n",
       "      <td>13003.26</td>\n",
       "      <td>1159806.90</td>\n",
       "    </tr>\n",
       "    <tr>\n",
       "      <th>9</th>\n",
       "      <td>Bank of China</td>\n",
       "      <td>13681.0</td>\n",
       "      <td>10944.8</td>\n",
       "      <td>12723.33</td>\n",
       "      <td>1134838.95</td>\n",
       "    </tr>\n",
       "  </tbody>\n",
       "</table>\n",
       "</div>"
      ],
      "text/plain": [
       "                                      Name  MC_USD_Billion  MC_GBP_Billion  \\\n",
       "0                           JPMorgan Chase         43292.0         34633.6   \n",
       "1                          Bank of America         23152.0         18521.6   \n",
       "2  Industrial and Commercial Bank of China         19456.0         15564.8   \n",
       "3               Agricultural Bank of China         16068.0         12854.4   \n",
       "4                                HDFC Bank         15791.0         12632.8   \n",
       "5                              Wells Fargo         15587.0         12469.6   \n",
       "6                                     HSBC         14890.0         11912.0   \n",
       "7                           Morgan Stanley         14083.0         11266.4   \n",
       "8                  China Construction Bank         13982.0         11185.6   \n",
       "9                            Bank of China         13681.0         10944.8   \n",
       "\n",
       "   MC_EUR_Billion  MC_INR_Billion  \n",
       "0        40261.56      3591071.40  \n",
       "1        21531.36      1920458.40  \n",
       "2        18094.08      1613875.20  \n",
       "3        14943.24      1332840.60  \n",
       "4        14685.63      1309863.45  \n",
       "5        14495.91      1292941.65  \n",
       "6        13847.70      1235125.50  \n",
       "7        13097.19      1168184.85  \n",
       "8        13003.26      1159806.90  \n",
       "9        12723.33      1134838.95  "
      ]
     },
     "execution_count": 24,
     "metadata": {},
     "output_type": "execute_result"
    }
   ],
   "source": [
    "#Print the contents of the entire table\n",
    "query_statement = f\"SELECT * FROM {table_name}\"\n",
    "query_output = pd.read_sql(query_statement, sql_connection)\n",
    "query_output"
   ]
  },
  {
   "cell_type": "code",
   "execution_count": 25,
   "id": "926603d9",
   "metadata": {},
   "outputs": [
    {
     "data": {
      "text/html": [
       "<div>\n",
       "<style scoped>\n",
       "    .dataframe tbody tr th:only-of-type {\n",
       "        vertical-align: middle;\n",
       "    }\n",
       "\n",
       "    .dataframe tbody tr th {\n",
       "        vertical-align: top;\n",
       "    }\n",
       "\n",
       "    .dataframe thead th {\n",
       "        text-align: right;\n",
       "    }\n",
       "</style>\n",
       "<table border=\"1\" class=\"dataframe\">\n",
       "  <thead>\n",
       "    <tr style=\"text-align: right;\">\n",
       "      <th></th>\n",
       "      <th>AVG(MC_GBP_Billion)</th>\n",
       "    </tr>\n",
       "  </thead>\n",
       "  <tbody>\n",
       "    <tr>\n",
       "      <th>0</th>\n",
       "      <td>15198.56</td>\n",
       "    </tr>\n",
       "  </tbody>\n",
       "</table>\n",
       "</div>"
      ],
      "text/plain": [
       "   AVG(MC_GBP_Billion)\n",
       "0             15198.56"
      ]
     },
     "execution_count": 25,
     "metadata": {},
     "output_type": "execute_result"
    }
   ],
   "source": [
    "#Print the average market capitalization of all the banks in Billion USD.\n",
    "query_statement = f\"SELECT AVG(MC_GBP_Billion) FROM {table_name}\"\n",
    "query_output = pd.read_sql(query_statement, sql_connection)\n",
    "query_output"
   ]
  },
  {
   "cell_type": "code",
   "execution_count": 26,
   "id": "a6f01043",
   "metadata": {},
   "outputs": [
    {
     "data": {
      "text/html": [
       "<div>\n",
       "<style scoped>\n",
       "    .dataframe tbody tr th:only-of-type {\n",
       "        vertical-align: middle;\n",
       "    }\n",
       "\n",
       "    .dataframe tbody tr th {\n",
       "        vertical-align: top;\n",
       "    }\n",
       "\n",
       "    .dataframe thead th {\n",
       "        text-align: right;\n",
       "    }\n",
       "</style>\n",
       "<table border=\"1\" class=\"dataframe\">\n",
       "  <thead>\n",
       "    <tr style=\"text-align: right;\">\n",
       "      <th></th>\n",
       "      <th>Name</th>\n",
       "    </tr>\n",
       "  </thead>\n",
       "  <tbody>\n",
       "    <tr>\n",
       "      <th>0</th>\n",
       "      <td>JPMorgan Chase</td>\n",
       "    </tr>\n",
       "    <tr>\n",
       "      <th>1</th>\n",
       "      <td>Bank of America</td>\n",
       "    </tr>\n",
       "    <tr>\n",
       "      <th>2</th>\n",
       "      <td>Industrial and Commercial Bank of China</td>\n",
       "    </tr>\n",
       "    <tr>\n",
       "      <th>3</th>\n",
       "      <td>Agricultural Bank of China</td>\n",
       "    </tr>\n",
       "    <tr>\n",
       "      <th>4</th>\n",
       "      <td>HDFC Bank</td>\n",
       "    </tr>\n",
       "  </tbody>\n",
       "</table>\n",
       "</div>"
      ],
      "text/plain": [
       "                                      Name\n",
       "0                           JPMorgan Chase\n",
       "1                          Bank of America\n",
       "2  Industrial and Commercial Bank of China\n",
       "3               Agricultural Bank of China\n",
       "4                                HDFC Bank"
      ]
     },
     "execution_count": 26,
     "metadata": {},
     "output_type": "execute_result"
    }
   ],
   "source": [
    "#Print only the names of the top 5 banks\n",
    "query_statement = f\"SELECT Name from {table_name} LIMIT 5\"\n",
    "query_output = pd.read_sql(query_statement, sql_connection)\n",
    "query_output"
   ]
  },
  {
   "cell_type": "code",
   "execution_count": 27,
   "id": "3f37e99e",
   "metadata": {},
   "outputs": [],
   "source": [
    "#Calling the function \n",
    "run_query(query_statement, sql_connection)   \n",
    "\n",
    "#Call run_query()   --> Process Complete.\n",
    "log_progress('Process Complete.')"
   ]
  },
  {
   "cell_type": "code",
   "execution_count": 28,
   "id": "6d7704a3",
   "metadata": {},
   "outputs": [
    {
     "name": "stdout",
     "output_type": "stream",
     "text": [
      "Server Connection closed\n"
     ]
    }
   ],
   "source": [
    "#Close SQLite3 connection --> Server Connection closed\n",
    "sql_connection.close()\n",
    "print('Server Connection closed')"
   ]
  },
  {
   "cell_type": "code",
   "execution_count": 29,
   "id": "91498cd6",
   "metadata": {},
   "outputs": [],
   "source": [
    "##########################################################################################################"
   ]
  },
  {
   "cell_type": "code",
   "execution_count": 30,
   "id": "62d6c909",
   "metadata": {},
   "outputs": [
    {
     "name": "stdout",
     "output_type": "stream",
     "text": [
      "Server Connection closed\n"
     ]
    }
   ],
   "source": [
    "########################################### Verify log entries ###########################################\n",
    "#        Task           -->       Log message on completion\n",
    "\n",
    "#Declaring known values --> Preliminaries complete. Initiating ETL process.\n",
    "# Log the initialization of the ETL process \n",
    "log_progress('Preliminaries complete. Initiating ETL process')\n",
    "\n",
    "\n",
    "#Call extract() function --> Data extraction complete. Initiating Transformation process.\n",
    "#call the extract_data function\n",
    "#(The data received from this step will then be transferred to the 2nd step of transforming, after this has completed the data\n",
    "# is then loaded into the target file)\n",
    "#before & after every step the time and date for start and completion has been added\n",
    "df = extract(url, table_attribs)\n",
    "log_progress('Data extraction complete. Initiating Transformation process')\n",
    "\n",
    "\n",
    "#Call transform() function --> Data transformation complete. Initiating loading process.\n",
    "df = transform(df, exchange_rate)\n",
    "log_progress('Data transformation complete. Initiating loading process')\n",
    "\n",
    "#Call load_to_csv()  --> Data saved to CSV file.\n",
    "load_to_csv(df, csv_path)\n",
    "log_progress('Data saved to CSV file')\n",
    "\n",
    "#Initiate SQLite3 connection --> SQL Connection initiated.\n",
    "sql_connection = sqlite3.connect(db_name)\n",
    "log_progress('SQL Connection initiated.')\n",
    "\n",
    "#Call load_to_db() --> Data loaded to Database as table. Running the query.\n",
    "load_to_db(df, sql_connection, table_name)\n",
    "log_progress('Data loaded to Database as a table, Executing queries')\n",
    "\n",
    "#Call run_query() *  --> Process Complete.\n",
    "#Query: Display only the entries with more than a 100 billion USD economy\n",
    "run_query(query_statement, sql_connection)\n",
    "\n",
    "log_progress('Process Complete.')\n",
    "\n",
    "#Close SQLite3 connection --> -\n",
    "sql_connection.close()\n",
    "print('Server Connection closed')"
   ]
  },
  {
   "cell_type": "code",
   "execution_count": 31,
   "id": "d589f38c",
   "metadata": {},
   "outputs": [],
   "source": [
    "###########################################################################################################################"
   ]
  }
 ],
 "metadata": {
  "kernelspec": {
   "display_name": "Python 3 (ipykernel)",
   "language": "python",
   "name": "python3"
  },
  "language_info": {
   "codemirror_mode": {
    "name": "ipython",
    "version": 3
   },
   "file_extension": ".py",
   "mimetype": "text/x-python",
   "name": "python",
   "nbconvert_exporter": "python",
   "pygments_lexer": "ipython3",
   "version": "3.11.3"
  }
 },
 "nbformat": 4,
 "nbformat_minor": 5
}
